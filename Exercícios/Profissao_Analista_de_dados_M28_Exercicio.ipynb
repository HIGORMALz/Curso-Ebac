{
  "nbformat": 4,
  "nbformat_minor": 0,
  "metadata": {
    "colab": {
      "provenance": [],
      "collapsed_sections": [
        "JG1HL69-j0lH",
        "s_Dj-BgThLg5",
        "jeEzLmuRhDQy",
        "PoTeRwlihDQ0",
        "QpMlxqRyhDQ1",
        "ov7Fg-mWhDQ1",
        "DvHPNAoPgdiG",
        "3SMp5GwjglJm",
        "e3ieQfXTgqd3",
        "L0pKWNr5fm9z",
        "DMhCpOU_gupo",
        "l3h0WP2Eg2ht",
        "rWG4Vk6XaWtf",
        "wkibgd8rB8y3",
        "IjPaJtnYE0MI",
        "2lpj1rszc--m",
        "HnWg_mhLd5gC",
        "RhqmXiHQo-is",
        "SvT9xrajLL7J",
        "91eSyA2cLLqv"
      ]
    },
    "kernelspec": {
      "name": "python3",
      "display_name": "Python 3"
    }
  },
  "cells": [
    {
      "cell_type": "markdown",
      "metadata": {
        "id": "KJqp9AANOCtf"
      },
      "source": [
        "<img src=\"https://raw.githubusercontent.com/andre-marcos-perez/ebac-course-utils/main/media/logo/newebac_logo_black_half.png\" alt=\"ebac-logo\">\n",
        "\n",
        "---\n",
        "\n",
        "# **Módulo** | Computação em Nuvem III\n",
        "Caderno de **Exercícios**<br>\n",
        "Professor [André Perez](https://www.linkedin.com/in/andremarcosperez/)\n",
        "\n",
        "---"
      ]
    },
    {
      "cell_type": "markdown",
      "metadata": {
        "id": "d9jDtUbDOE1-"
      },
      "source": [
        "# **Tópicos**\n",
        "\n",
        "<ol type=\"1\">\n",
        "  <li>Introdução;</li>\n",
        "  <li>Apache Spark;</li>\n",
        "  <li>Data Wrangling com Spark.</li>\n",
        "</ol>"
      ]
    },
    {
      "cell_type": "markdown",
      "metadata": {
        "id": "SmoHgt-lwkpD"
      },
      "source": [
        "---"
      ]
    },
    {
      "cell_type": "markdown",
      "metadata": {
        "id": "GABI6OW8OfQ2"
      },
      "source": [
        "# **Exercícios**"
      ]
    },
    {
      "cell_type": "markdown",
      "metadata": {
        "id": "ne7Ay0HKaGSv"
      },
      "source": [
        "## 1\\. Apache Spark"
      ]
    },
    {
      "cell_type": "markdown",
      "metadata": {
        "id": "OQxOVktrzG9I"
      },
      "source": [
        "Replique as atividades do item 2.1 e 2.2 para instalar e configurar um cluster Apache Spark na máquina virtual do Google Colab."
      ]
    },
    {
      "cell_type": "code",
      "source": [
        "#Download do Spark, versão 3.0.0.\n",
        "\n",
        "%%capture\n",
        "!wget -q https://archive.apache.org/dist/spark/spark-3.0.0/spark-3.0.0-bin-hadoop2.7.tgz\n",
        "!tar xf spark-3.0.0-bin-hadoop2.7.tgz && rm spark-3.0.0-bin-hadoop2.7.tgz"
      ],
      "metadata": {
        "id": "lRehxGwFYHXJ"
      },
      "execution_count": 1,
      "outputs": []
    },
    {
      "cell_type": "code",
      "source": [
        "#Download e instalação do Java, versão 8.\n",
        "\n",
        "%%capture\n",
        "!apt-get remove openjdk*\n",
        "!apt-get update --fix-missing\n",
        "!apt-get install openjdk-8-jdk-headless -qq > /dev/null"
      ],
      "metadata": {
        "id": "o5TdvJWMYMgO"
      },
      "execution_count": 2,
      "outputs": []
    },
    {
      "cell_type": "code",
      "source": [
        "# instalando o pyspark\n",
        "\n",
        "!pip install -q pyspark==3.0.0"
      ],
      "metadata": {
        "colab": {
          "base_uri": "https://localhost:8080/"
        },
        "id": "5I84mqHNZbc5",
        "outputId": "ab893938-0c69-4380-e2ea-ae9f508bca42"
      },
      "execution_count": 3,
      "outputs": [
        {
          "output_type": "stream",
          "name": "stdout",
          "text": [
            "\u001b[2K     \u001b[90m━━━━━━━━━━━━━━━━━━━━━━━━━━━━━━━━━━━━━━━\u001b[0m \u001b[32m204.7/204.7 MB\u001b[0m \u001b[31m5.5 MB/s\u001b[0m eta \u001b[36m0:00:00\u001b[0m\n",
            "\u001b[?25h  Preparing metadata (setup.py) ... \u001b[?25l\u001b[?25hdone\n",
            "\u001b[2K     \u001b[90m━━━━━━━━━━━━━━━━━━━━━━━━━━━━━━━━━━━━━━\u001b[0m \u001b[32m198.6/198.6 kB\u001b[0m \u001b[31m22.9 MB/s\u001b[0m eta \u001b[36m0:00:00\u001b[0m\n",
            "\u001b[?25h  Building wheel for pyspark (setup.py) ... \u001b[?25l\u001b[?25hdone\n"
          ]
        }
      ]
    },
    {
      "cell_type": "code",
      "source": [
        "import os\n",
        "\n",
        "os.environ[\"JAVA_HOME\"] = \"/usr/lib/jvm/java-8-openjdk-amd64\"\n",
        "os.environ[\"SPARK_HOME\"] = \"/content/spark-3.0.0-bin-hadoop2.7\""
      ],
      "metadata": {
        "id": "bE2OO988Zkp8"
      },
      "execution_count": 4,
      "outputs": []
    },
    {
      "cell_type": "code",
      "source": [
        "!pip install -q findspark==1.4.2"
      ],
      "metadata": {
        "id": "LeRIQmTzZq6V"
      },
      "execution_count": 6,
      "outputs": []
    },
    {
      "cell_type": "code",
      "source": [
        "import findspark\n",
        "\n",
        "findspark.init()"
      ],
      "metadata": {
        "id": "GPvEMfetZ6Go"
      },
      "execution_count": 7,
      "outputs": []
    },
    {
      "cell_type": "markdown",
      "metadata": {
        "id": "EvJTE2FpaGeU"
      },
      "source": [
        "## 2\\. Data Wrangling"
      ]
    },
    {
      "cell_type": "markdown",
      "metadata": {
        "id": "ISYXZbomlb1x"
      },
      "source": [
        "A base de dados presente neste [link](https://www.kaggle.com/datasets/bank-of-england/a-millennium-of-macroeconomic-data) contem dados macroeconômicos sobre o Reino Unido desde o século 13."
      ]
    },
    {
      "cell_type": "markdown",
      "source": [
        "**2.1\\. Data**"
      ],
      "metadata": {
        "id": "gw9qU6sLipWv"
      }
    },
    {
      "cell_type": "markdown",
      "source": [
        "Faça o download dos dados utilizando a máquina virutal do Google Colab com o código abaixo."
      ],
      "metadata": {
        "id": "1hnomN0NmgFY"
      }
    },
    {
      "cell_type": "code",
      "source": [
        "!wget -q \"https://raw.githubusercontent.com/cluster-apps-on-docker/spark-standalone-cluster-on-docker/master/build/workspace/data/uk-macroeconomic-data.csv\" -O \"uk-macroeconomic-data.csv\""
      ],
      "metadata": {
        "id": "D7kgFvnoklGX"
      },
      "execution_count": 8,
      "outputs": []
    },
    {
      "cell_type": "markdown",
      "source": [
        "**2.2. Wrangling**"
      ],
      "metadata": {
        "id": "b-I1dUa0iyE1"
      }
    },
    {
      "cell_type": "markdown",
      "source": [
        "Processe os dados para que a base de dados final apresente os valores da taxa de desemprego (`Unemployment rate`) e população (`Population (GB+NI)`) estejam ordenados por ano decrescente:"
      ],
      "metadata": {
        "id": "RONWLjqgkr5B"
      }
    },
    {
      "cell_type": "markdown",
      "source": [
        "```csv\n",
        "year,population,unemployment_rate\n",
        "...,...,...\n",
        "```"
      ],
      "metadata": {
        "id": "mr-NTxnalqIm"
      }
    },
    {
      "cell_type": "markdown",
      "source": [
        "Para isso, utilize:"
      ],
      "metadata": {
        "id": "snONpcdtlpQu"
      }
    },
    {
      "cell_type": "markdown",
      "source": [
        " - PySpark"
      ],
      "metadata": {
        "id": "yswaBr3JkxHq"
      }
    },
    {
      "cell_type": "code",
      "source": [
        "from pyspark.sql import SparkSession\n",
        "\n",
        "spark = SparkSession.builder.master(\"local[*]\").appName(\"pyspark-notebook\").getOrCreate()"
      ],
      "metadata": {
        "id": "2BUN93hGkyMZ"
      },
      "execution_count": 9,
      "outputs": []
    },
    {
      "cell_type": "code",
      "source": [
        "dataframe = spark.read.csv(path='uk-macroeconomic-data.csv', sep=',', header=True)"
      ],
      "metadata": {
        "id": "GMhPZOYPanOn"
      },
      "execution_count": 10,
      "outputs": []
    },
    {
      "cell_type": "code",
      "source": [
        "#visualizando as 10 primeiras linhas do dataframe\n",
        "dataframe.show(n=10)"
      ],
      "metadata": {
        "id": "GmQoR-hfk1Mv",
        "colab": {
          "base_uri": "https://localhost:8080/"
        },
        "outputId": "bb0211d8-7227-4252-9c12-539c1123a122"
      },
      "execution_count": 13,
      "outputs": [
        {
          "output_type": "stream",
          "name": "stdout",
          "text": [
            "+-----------+------------------------------------+-----------------------------------+-------------------------------------------------------------------------------------------+-----------------------------------------------------------------------------------------+------------------------------------------------------------------------------+----------------------------------------------------------------------------------------+-------------------------------------------------------------------------------------+-----------------------------------------------------------------------------------+--------------------+--------------------+--------------------------+-------------------------------------------------+--------------------+--------------------+---------------------------------------+-------------------------------+---------------------------------+------------------+--------------------+----------+-----------------+---------------------------+-------------------------------+----------+--------------------+---------------------+-------------------------------------------+-----------------------------+-------------+-------------+--------------+------------+--------------------+--------------------+------------------------+----------------------+------------------------------+------------+--------------------+------------------------------------------+------------------------------------------+--------------------+-----------------------------------+---------------------+--------------------+--------------------+----------------------+--------------------+--------------------+--------------------+-------------+--------------+-----------------------------+-------------------------------+-----------------------------------------------+-----------------------------+-------------+-------------+-------------+---------------------------------------+-----------------------------------------+----------------------------+------------------------------+-----------------------------------------+-------------------------------------------+---------------------+-----------------------+-----------------------+-----------------------------+-------------------------------+-------------+--------------------+----------------+--------------------+----------------------------------------------------------------------+------------------------------------------------------------------------+\n",
            "|Description|Real GDP of England at market prices|Real GDP of England at factor cost |Real UK GDP at market prices, geographically-consistent estimate based on post-1922 borders|Real UK GDP at factor cost, geographically-consistent estimate based on post-1922 borders|Index of real UK GDP at factor cost - based on changing political boundaries, |Composite estimate of English and (geographically-consistent) UK real GDP at factor cost|HP-filter of log of real composite estimate of English and UK real GDP at factor cost|Real UK gross disposable national income at market prices, constant border estimate|    Real consumption|     Real investment|Stockbuilding contribution|Real government consumption of goods and services|      Export volumes|      Import volumes|Nominal GDP of England at market prices|Nominal UK GDP at market prices|Nominal UK GDP at market prices.1|Population (GB+NI)|Population (England)|Employment|Unemployment rate|Average weekly hours worked|Capital Services, whole economy|TFP growth| Labour productivity|Labour productivity.1|Labour share, whole economy excluding rents|GDP deflator at market prices|Export prices|Import prices|Terms of Trade|$ Oil prices|   Earnings per head|Consumer price index|Consumer price inflation|Real consumption wages|Wholesale/producer price index|   Bank Rate|         Bank Rate.1|10 year/medium-term government bond yields|Consols / long-term government bond yields|      Mortgage rates|Corporate borrowing rate from banks|Corporate bond yields|        Share prices|   $/£ exchange rate|Real $/£ exchange rate|         Nominal ERI|            Real ERI|   House price index|      Credit |Secured credit|Bank of England Balance sheet|Bank of England Balance sheet.1|Coin in circulation outside the Bank of England|Notes and coin in circulation|Monetary base|           M1| Broad Money |Public sector Total Managed Expenditure|Public sector Total Managed Expenditure.1|Public Sector Total Receipts|Public Sector Total Receipts.1|Public Sector Net Lending(+)/Borrowing(-)|Public Sector Net Lending(+)/Borrowing(-).1|UK Public sector debt|UK Public sector debt.1|UK Public sector debt.2|Central Government Gross Debt|Central Government Gross Debt.1|Trade deficit|     Trade deficit.1|Current account |  Current account .1|Current account deficit including estimated non-monetary bullion flows|Current account deficit including estimated non-monetary bullion flows.1|\n",
            "+-----------+------------------------------------+-----------------------------------+-------------------------------------------------------------------------------------------+-----------------------------------------------------------------------------------------+------------------------------------------------------------------------------+----------------------------------------------------------------------------------------+-------------------------------------------------------------------------------------+-----------------------------------------------------------------------------------+--------------------+--------------------+--------------------------+-------------------------------------------------+--------------------+--------------------+---------------------------------------+-------------------------------+---------------------------------+------------------+--------------------+----------+-----------------+---------------------------+-------------------------------+----------+--------------------+---------------------+-------------------------------------------+-----------------------------+-------------+-------------+--------------+------------+--------------------+--------------------+------------------------+----------------------+------------------------------+------------+--------------------+------------------------------------------+------------------------------------------+--------------------+-----------------------------------+---------------------+--------------------+--------------------+----------------------+--------------------+--------------------+--------------------+-------------+--------------+-----------------------------+-------------------------------+-----------------------------------------------+-----------------------------+-------------+-------------+-------------+---------------------------------------+-----------------------------------------+----------------------------+------------------------------+-----------------------------------------+-------------------------------------------+---------------------+-----------------------+-----------------------+-----------------------------+-------------------------------+-------------+--------------------+----------------+--------------------+----------------------------------------------------------------------+------------------------------------------------------------------------+\n",
            "|      Units|                £mn, Chained Volu...|               £mn, Chained Volu...|                                                                       £mn, Chained Volu...|                                                                     £mn, Chained Volu...|                                                          GB before 1801, G...|                                                                                2013=100|                                                                 approx. % differe...|                                                               £mn, Chained Volu...|£mn, Chained Volu...|£mn, Chained Volu...|      pp contribution t...|                             £mn, Chained Volu...|£mn, Chained Volu...|£mn, Chained Volu...|                                    £mn|                            £mn|                              £mn|              000s|                000s|      000s|                %|                      hours|               £mn, 2013 prices|         %|Real GDP per head...| Real GDP per hour...|                       share of GDP excl...|                     2013=100|     2013=100|     2013=100|      2013=100|$ per barrel|Average weekly ea...|            2015=100|                       %|              1900=100|                      2010=100|% end period|%, calendar year ...|                      %, calendar year ...|                      %, calendar year ...|%, calendar year ...|               %, calendar year ...| %, calendar year ...|April 1962=100, Y...|Calendar year ave...|  Calendar year ave...|Calendar year ave...|Calendar year ave...|Calendar year ave...|Year end, £mn| Year end, £mn|             % of nominal GDP|               % of nominal GDP|                                  Year end, £mn|                Year end, £mn|Year end, £mn|Year end, £mn|Year end, £mn|                   Calendar year tot...|                     as a % of nominal...|        Calendar year tot...|          as a % of nominal...|                     Calendar year tot...|                       as a % of nominal...| Calendar Year end...|   as a % of nominal...|   as a % of nominal...|         Financial year en...|           Financial year en...|          £mn|as a % of nominal...|             £mn|as a % of nominal...|                                                                   £mn|                                                    as a % of nominal...|\n",
            "|       1209|                                null|                               null|                                                                                       null|                                                                                     null|                                                                          null|                                                                                    null|                                                                                 null|                                                                               null|                null|                null|                      null|                                             null|                null|                null|                                   null|                           null|                             null|              null|                3626|      null|             null|                       null|                           null|      null|                null|                 null|                                       null|                         null|         null|         null|          null|        null|               0.034|                0.08|                    null|                 51.79|                          null|        null|                null|                                      null|                                      null|                null|                               null|                 null|                null|                null|                  null|                null|                null|                null|         null|          null|                         null|                           null|                                           null|                         null|         null|         null|         null|                                   null|                                     null|                        null|                          null|                                     null|                                       null|                 null|                   null|                   null|                         null|                           null|         null|                null|            null|                null|                                                                  null|                                                                    null|\n",
            "|       1210|                                null|                               null|                                                                                       null|                                                                                     null|                                                                          null|                                                                                    null|                                                                                 null|                                                                               null|                null|                null|                      null|                                             null|                null|                null|                                   null|                           null|                             null|              null|                3656|      null|             null|                       null|                           null|      null|                null|                 null|                                       null|                         null|         null|         null|          null|        null|               0.030|                0.08|                    2.58|                 44.65|                          null|        null|                null|                                      null|                                      null|                null|                               null|                 null|                null|                null|                  null|                null|                null|                null|         null|          null|                         null|                           null|                                           null|                         null|         null|         null|         null|                                   null|                                     null|                        null|                          null|                                     null|                                       null|                 null|                   null|                   null|                         null|                           null|         null|                null|            null|                null|                                                                  null|                                                                    null|\n",
            "|       1211|                                null|                               null|                                                                                       null|                                                                                     null|                                                                          null|                                                                                    null|                                                                                 null|                                                                               null|                null|                null|                      null|                                             null|                null|                null|                                   null|                           null|                             null|              null|                3686|      null|             null|                       null|                           null|      null|                null|                 null|                                       null|                         null|         null|         null|          null|        null|               0.026|                0.09|                   12.22|                 34.86|                          null|        null|                null|                                      null|                                      null|                null|                               null|                 null|                null|                null|                  null|                null|                null|                null|         null|          null|                         null|                           null|                                           null|                         null|         null|         null|         null|                                   null|                                     null|                        null|                          null|                                     null|                                       null|                 null|                   null|                   null|                         null|                           null|         null|                null|            null|                null|                                                                  null|                                                                    null|\n",
            "|       1212|                                null|                               null|                                                                                       null|                                                                                     null|                                                                          null|                                                                                    null|                                                                                 null|                                                                               null|                null|                null|                      null|                                             null|                null|                null|                                   null|                           null|                             null|              null|                3717|      null|             null|                       null|                           null|      null|                null|                 null|                                       null|                         null|         null|         null|          null|        null|               0.033|                0.08|                  -12.32|                 49.35|                          null|        null|                null|                                      null|                                      null|                null|                               null|                 null|                null|                null|                  null|                null|                null|                null|         null|          null|                         null|                           null|                                           null|                         null|         null|         null|         null|                                   null|                                     null|                        null|                          null|                                     null|                                       null|                 null|                   null|                   null|                         null|                           null|         null|                null|            null|                null|                                                                  null|                                                                    null|\n",
            "|       1213|                                null|                               null|                                                                                       null|                                                                                     null|                                                                          null|                                                                                    null|                                                                                 null|                                                                               null|                null|                null|                      null|                                             null|                null|                null|                                   null|                           null|                             null|              null|                3747|      null|             null|                       null|                           null|      null|                null|                 null|                                       null|                         null|         null|         null|          null|        null|               0.037|                0.08|                   -3.37|                 57.28|                          null|        null|                null|                                      null|                                      null|                null|                               null|                 null|                null|                null|                  null|                null|                null|                null|         null|          null|                         null|                           null|                                           null|                         null|         null|         null|         null|                                   null|                                     null|                        null|                          null|                                     null|                                       null|                 null|                   null|                   null|                         null|                           null|         null|                null|            null|                null|                                                                  null|                                                                    null|\n",
            "|       1214|                                null|                               null|                                                                                       null|                                                                                     null|                                                                          null|                                                                                    null|                                                                                 null|                                                                               null|                null|                null|                      null|                                             null|                null|                null|                                   null|                           null|                             null|              null|                3778|      null|             null|                       null|                           null|      null|                null|                 null|                                       null|                         null|         null|         null|          null|        null|               0.041|                0.08|                   -3.37|                 66.49|                          null|        null|                null|                                      null|                                      null|                null|                               null|                 null|                null|                null|                  null|                null|                null|                null|         null|          null|                         null|                           null|                                           null|                         null|         null|         null|         null|                                   null|                                     null|                        null|                          null|                                     null|                                       null|                 null|                   null|                   null|                         null|                           null|         null|                null|            null|                null|                                                                  null|                                                                    null|\n",
            "|       1215|                                null|                               null|                                                                                       null|                                                                                     null|                                                                          null|                                                                                    null|                                                                                 null|                                                                               null|                null|                null|                      null|                                             null|                null|                null|                                   null|                           null|                             null|              null|                3810|      null|             null|                       null|                           null|      null|                null|                 null|                                       null|                         null|         null|         null|          null|        null|               0.038|                0.08|                    6.34|                 57.33|                          null|        null|                null|                                      null|                                      null|                null|                               null|                 null|                null|                null|                  null|                null|                null|                null|         null|          null|                         null|                           null|                                           null|                         null|         null|         null|         null|                                   null|                                     null|                        null|                          null|                                     null|                                       null|                 null|                   null|                   null|                         null|                           null|         null|                null|            null|                null|                                                                  null|                                                                    null|\n",
            "|       1216|                                null|                               null|                                                                                       null|                                                                                     null|                                                                          null|                                                                                    null|                                                                                 null|                                                                               null|                null|                null|                      null|                                             null|                null|                null|                                   null|                           null|                             null|              null|                3841|      null|             null|                       null|                           null|      null|                null|                 null|                                       null|                         null|         null|         null|          null|        null|               0.035|                0.09|                    6.34|                 49.44|                          null|        null|                null|                                      null|                                      null|                null|                               null|                 null|                null|                null|                  null|                null|                null|                null|         null|          null|                         null|                           null|                                           null|                         null|         null|         null|         null|                                   null|                                     null|                        null|                          null|                                     null|                                       null|                 null|                   null|                   null|                         null|                           null|         null|                null|            null|                null|                                                                  null|                                                                    null|\n",
            "|       1217|                                null|                               null|                                                                                       null|                                                                                     null|                                                                          null|                                                                                    null|                                                                                 null|                                                                               null|                null|                null|                      null|                                             null|                null|                null|                                   null|                           null|                             null|              null|                3873|      null|             null|                       null|                           null|      null|                null|                 null|                                       null|                         null|         null|         null|          null|        null|               0.034|                0.10|                   15.78|                 41.18|                          null|        null|                null|                                      null|                                      null|                null|                               null|                 null|                null|                null|                  null|                null|                null|                null|         null|          null|                         null|                           null|                                           null|                         null|         null|         null|         null|                                   null|                                     null|                        null|                          null|                                     null|                                       null|                 null|                   null|                   null|                         null|                           null|         null|                null|            null|                null|                                                                  null|                                                                    null|\n",
            "+-----------+------------------------------------+-----------------------------------+-------------------------------------------------------------------------------------------+-----------------------------------------------------------------------------------------+------------------------------------------------------------------------------+----------------------------------------------------------------------------------------+-------------------------------------------------------------------------------------+-----------------------------------------------------------------------------------+--------------------+--------------------+--------------------------+-------------------------------------------------+--------------------+--------------------+---------------------------------------+-------------------------------+---------------------------------+------------------+--------------------+----------+-----------------+---------------------------+-------------------------------+----------+--------------------+---------------------+-------------------------------------------+-----------------------------+-------------+-------------+--------------+------------+--------------------+--------------------+------------------------+----------------------+------------------------------+------------+--------------------+------------------------------------------+------------------------------------------+--------------------+-----------------------------------+---------------------+--------------------+--------------------+----------------------+--------------------+--------------------+--------------------+-------------+--------------+-----------------------------+-------------------------------+-----------------------------------------------+-----------------------------+-------------+-------------+-------------+---------------------------------------+-----------------------------------------+----------------------------+------------------------------+-----------------------------------------+-------------------------------------------+---------------------+-----------------------+-----------------------+-----------------------------+-------------------------------+-------------+--------------------+----------------+--------------------+----------------------------------------------------------------------+------------------------------------------------------------------------+\n",
            "only showing top 10 rows\n",
            "\n"
          ]
        }
      ]
    },
    {
      "cell_type": "code",
      "source": [
        "# quantidade de colunas presentes\n",
        "dataframe.columns"
      ],
      "metadata": {
        "colab": {
          "base_uri": "https://localhost:8080/"
        },
        "id": "Exgw1IQIb0SC",
        "outputId": "927601b8-147b-4fc8-c7ac-9500cfb3080f"
      },
      "execution_count": 19,
      "outputs": [
        {
          "output_type": "execute_result",
          "data": {
            "text/plain": [
              "['Description',\n",
              " 'Real GDP of England at market prices',\n",
              " 'Real GDP of England at factor cost ',\n",
              " 'Real UK GDP at market prices, geographically-consistent estimate based on post-1922 borders',\n",
              " 'Real UK GDP at factor cost, geographically-consistent estimate based on post-1922 borders',\n",
              " 'Index of real UK GDP at factor cost - based on changing political boundaries, ',\n",
              " 'Composite estimate of English and (geographically-consistent) UK real GDP at factor cost',\n",
              " 'HP-filter of log of real composite estimate of English and UK real GDP at factor cost',\n",
              " 'Real UK gross disposable national income at market prices, constant border estimate',\n",
              " 'Real consumption',\n",
              " 'Real investment',\n",
              " 'Stockbuilding contribution',\n",
              " 'Real government consumption of goods and services',\n",
              " 'Export volumes',\n",
              " 'Import volumes',\n",
              " 'Nominal GDP of England at market prices',\n",
              " 'Nominal UK GDP at market prices',\n",
              " 'Nominal UK GDP at market prices.1',\n",
              " 'Population (GB+NI)',\n",
              " 'Population (England)',\n",
              " 'Employment',\n",
              " 'Unemployment rate',\n",
              " 'Average weekly hours worked',\n",
              " 'Capital Services, whole economy',\n",
              " 'TFP growth',\n",
              " 'Labour productivity',\n",
              " 'Labour productivity.1',\n",
              " 'Labour share, whole economy excluding rents',\n",
              " 'GDP deflator at market prices',\n",
              " 'Export prices',\n",
              " 'Import prices',\n",
              " 'Terms of Trade',\n",
              " '$ Oil prices',\n",
              " 'Earnings per head',\n",
              " 'Consumer price index',\n",
              " 'Consumer price inflation',\n",
              " 'Real consumption wages',\n",
              " 'Wholesale/producer price index',\n",
              " 'Bank Rate',\n",
              " 'Bank Rate.1',\n",
              " '10 year/medium-term government bond yields',\n",
              " 'Consols / long-term government bond yields',\n",
              " 'Mortgage rates',\n",
              " 'Corporate borrowing rate from banks',\n",
              " 'Corporate bond yields',\n",
              " 'Share prices',\n",
              " '$/£ exchange rate',\n",
              " 'Real $/£ exchange rate',\n",
              " 'Nominal ERI',\n",
              " 'Real ERI',\n",
              " 'House price index',\n",
              " 'Credit ',\n",
              " 'Secured credit',\n",
              " 'Bank of England Balance sheet',\n",
              " 'Bank of England Balance sheet.1',\n",
              " 'Coin in circulation outside the Bank of England',\n",
              " 'Notes and coin in circulation',\n",
              " 'Monetary base',\n",
              " 'M1',\n",
              " 'Broad Money ',\n",
              " 'Public sector Total Managed Expenditure',\n",
              " 'Public sector Total Managed Expenditure.1',\n",
              " 'Public Sector Total Receipts',\n",
              " 'Public Sector Total Receipts.1',\n",
              " 'Public Sector Net Lending(+)/Borrowing(-)',\n",
              " 'Public Sector Net Lending(+)/Borrowing(-).1',\n",
              " 'UK Public sector debt',\n",
              " 'UK Public sector debt.1',\n",
              " 'UK Public sector debt.2',\n",
              " 'Central Government Gross Debt',\n",
              " 'Central Government Gross Debt.1',\n",
              " 'Trade deficit',\n",
              " 'Trade deficit.1',\n",
              " 'Current account ',\n",
              " 'Current account .1',\n",
              " 'Current account deficit including estimated non-monetary bullion flows',\n",
              " 'Current account deficit including estimated non-monetary bullion flows.1']"
            ]
          },
          "metadata": {},
          "execution_count": 19
        }
      ]
    },
    {
      "cell_type": "code",
      "source": [
        "# numero de colunas\n",
        "len(dataframe.columns)"
      ],
      "metadata": {
        "colab": {
          "base_uri": "https://localhost:8080/"
        },
        "id": "2I117tnscMt5",
        "outputId": "d61e1268-c4f6-423a-dc9c-a7474112ced9"
      },
      "execution_count": 18,
      "outputs": [
        {
          "output_type": "execute_result",
          "data": {
            "text/plain": [
              "77"
            ]
          },
          "metadata": {},
          "execution_count": 18
        }
      ]
    },
    {
      "cell_type": "code",
      "source": [
        "dataframe = dataframe.select(['Description', 'Population (GB+NI)', 'Unemployment rate'])"
      ],
      "metadata": {
        "id": "ju1oWZMHcRlt"
      },
      "execution_count": 20,
      "outputs": []
    },
    {
      "cell_type": "code",
      "source": [
        "# renomenado as colunas\n",
        "data = dataframe.\\\n",
        "  withColumnRenamed('Description', 'year').\\\n",
        "  withColumnRenamed('Population (GB+NI)', 'population').\\\n",
        "  withColumnRenamed('Unemployment rate', 'unemployment_rate')"
      ],
      "metadata": {
        "id": "Ks4E3apOc3Z-"
      },
      "execution_count": 21,
      "outputs": []
    },
    {
      "cell_type": "code",
      "source": [
        "# visualizando as 10 primeiras linhas\n",
        "\n",
        "data.show(n=10)"
      ],
      "metadata": {
        "colab": {
          "base_uri": "https://localhost:8080/"
        },
        "id": "NLFduLspdlxD",
        "outputId": "a47b5d2d-5e11-4958-b420-a61695466f8e"
      },
      "execution_count": 23,
      "outputs": [
        {
          "output_type": "stream",
          "name": "stdout",
          "text": [
            "+-----+----------+-----------------+\n",
            "| year|population|unemployment_rate|\n",
            "+-----+----------+-----------------+\n",
            "|Units|      000s|                %|\n",
            "| 1209|      null|             null|\n",
            "| 1210|      null|             null|\n",
            "| 1211|      null|             null|\n",
            "| 1212|      null|             null|\n",
            "| 1213|      null|             null|\n",
            "| 1214|      null|             null|\n",
            "| 1215|      null|             null|\n",
            "| 1216|      null|             null|\n",
            "| 1217|      null|             null|\n",
            "+-----+----------+-----------------+\n",
            "only showing top 10 rows\n",
            "\n"
          ]
        }
      ]
    },
    {
      "cell_type": "code",
      "source": [
        "# selecionando uma linha do dataframe baseado no conteudo da coluna 'year'\n",
        "data_description = data.filter(data['year'] == 'Units')"
      ],
      "metadata": {
        "id": "pGk6vS_2d0Bw"
      },
      "execution_count": 24,
      "outputs": []
    },
    {
      "cell_type": "code",
      "source": [
        "data_description.show()"
      ],
      "metadata": {
        "colab": {
          "base_uri": "https://localhost:8080/"
        },
        "id": "XgLadEvGeRMr",
        "outputId": "82f34e79-c7aa-40f6-bcf4-a3420d291e11"
      },
      "execution_count": 25,
      "outputs": [
        {
          "output_type": "stream",
          "name": "stdout",
          "text": [
            "+-----+----------+-----------------+\n",
            "| year|population|unemployment_rate|\n",
            "+-----+----------+-----------------+\n",
            "|Units|      000s|                %|\n",
            "+-----+----------+-----------------+\n",
            "\n"
          ]
        }
      ]
    },
    {
      "cell_type": "markdown",
      "source": [
        "O método join faz a junção distribuída de dois DataFrames. Já o método broadcast \"marca\" um DataFrame como \"pequeno\" e força o Spark a trafega-lo pela rede."
      ],
      "metadata": {
        "id": "1KZ0M3ivekHp"
      }
    },
    {
      "cell_type": "code",
      "source": [
        "from pyspark.sql.functions import broadcast"
      ],
      "metadata": {
        "id": "CYWezvLmelAJ"
      },
      "execution_count": 26,
      "outputs": []
    },
    {
      "cell_type": "code",
      "source": [
        "data = data.join(other=broadcast(data_description), on=['year'], how='left_anti')"
      ],
      "metadata": {
        "id": "q8sBzBgWepGz"
      },
      "execution_count": 27,
      "outputs": []
    },
    {
      "cell_type": "code",
      "source": [
        "data.show(n=10)"
      ],
      "metadata": {
        "colab": {
          "base_uri": "https://localhost:8080/"
        },
        "id": "i0Vpj56Ses2N",
        "outputId": "f6dd6f22-7300-4614-ce22-274740fc0d7c"
      },
      "execution_count": 28,
      "outputs": [
        {
          "output_type": "stream",
          "name": "stdout",
          "text": [
            "+----+----------+-----------------+\n",
            "|year|population|unemployment_rate|\n",
            "+----+----------+-----------------+\n",
            "|1209|      null|             null|\n",
            "|1210|      null|             null|\n",
            "|1211|      null|             null|\n",
            "|1212|      null|             null|\n",
            "|1213|      null|             null|\n",
            "|1214|      null|             null|\n",
            "|1215|      null|             null|\n",
            "|1216|      null|             null|\n",
            "|1217|      null|             null|\n",
            "|1218|      null|             null|\n",
            "+----+----------+-----------------+\n",
            "only showing top 10 rows\n",
            "\n"
          ]
        }
      ]
    },
    {
      "cell_type": "code",
      "source": [
        "# removendo todas as linhas que apresentam ao menos um valor nulo\n",
        "data = data.dropna()"
      ],
      "metadata": {
        "id": "Jd3a6FYXew4V"
      },
      "execution_count": 29,
      "outputs": []
    },
    {
      "cell_type": "code",
      "source": [
        "data.show()"
      ],
      "metadata": {
        "colab": {
          "base_uri": "https://localhost:8080/"
        },
        "id": "6vFY10GQe8Hk",
        "outputId": "27a78b9a-ec2c-48ae-bdfb-28a79b7358b1"
      },
      "execution_count": 30,
      "outputs": [
        {
          "output_type": "stream",
          "name": "stdout",
          "text": [
            "+----+----------+-----------------+\n",
            "|year|population|unemployment_rate|\n",
            "+----+----------+-----------------+\n",
            "|1855|     23241|             3.73|\n",
            "|1856|     23466|             3.52|\n",
            "|1857|     23689|             3.95|\n",
            "|1858|     23914|             5.23|\n",
            "|1859|     24138|             3.27|\n",
            "|1860|     24360|             2.94|\n",
            "|1861|     24585|             3.72|\n",
            "|1862|     24862|             4.68|\n",
            "|1863|     25142|             4.15|\n",
            "|1864|     25425|             2.99|\n",
            "|1865|     25712|             2.96|\n",
            "|1866|     26003|             3.29|\n",
            "|1867|     26296|             4.84|\n",
            "|1868|     26594|             5.01|\n",
            "|1869|     26896|             4.68|\n",
            "|1870|     27201|             3.77|\n",
            "|1871|     27516|             3.08|\n",
            "|1872|     27855|             2.31|\n",
            "|1873|     28198|             2.40|\n",
            "|1874|     28545|             2.83|\n",
            "+----+----------+-----------------+\n",
            "only showing top 20 rows\n",
            "\n"
          ]
        }
      ]
    },
    {
      "cell_type": "code",
      "source": [
        "# ordenando os dados por ordem decrescente\n",
        "data = data.orderBy('year', ascending=False)"
      ],
      "metadata": {
        "id": "mlrvQppqgSmf"
      },
      "execution_count": 38,
      "outputs": []
    },
    {
      "cell_type": "code",
      "source": [
        "data.show()"
      ],
      "metadata": {
        "colab": {
          "base_uri": "https://localhost:8080/"
        },
        "id": "Y05ygPjuitIB",
        "outputId": "a94bca59-46f8-4eb6-cbdc-7ba0796f2daa"
      },
      "execution_count": 39,
      "outputs": [
        {
          "output_type": "stream",
          "name": "stdout",
          "text": [
            "+----+----------+-----------------+\n",
            "|year|population|unemployment_rate|\n",
            "+----+----------+-----------------+\n",
            "|2016|     65573|             4.90|\n",
            "|2015|     65110|             5.38|\n",
            "|2014|     64597|             6.18|\n",
            "|2013|     64106|             7.61|\n",
            "|2012|     63705|             7.97|\n",
            "|2011|     63285|             8.11|\n",
            "|2010|     62759|             7.87|\n",
            "|2009|     62260|             7.61|\n",
            "|2008|     61824|             5.69|\n",
            "|2007|     61319|             5.33|\n",
            "|2006|     60827|             5.42|\n",
            "|2005|     60413|             4.83|\n",
            "|2004|     59950|             4.75|\n",
            "|2003|     59637|             5.01|\n",
            "|2002|     59366|             5.19|\n",
            "|2001|     59113|             5.10|\n",
            "|2000|     58886|             5.46|\n",
            "|1999|     58684|             5.98|\n",
            "|1998|     58475|             6.26|\n",
            "|1997|     58314|             6.97|\n",
            "+----+----------+-----------------+\n",
            "only showing top 20 rows\n",
            "\n"
          ]
        }
      ]
    }
  ]
}