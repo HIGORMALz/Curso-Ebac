{
  "nbformat": 4,
  "nbformat_minor": 0,
  "metadata": {
    "colab": {
      "provenance": []
    },
    "kernelspec": {
      "name": "python3",
      "display_name": "Python 3"
    },
    "language_info": {
      "name": "python"
    }
  },
  "cells": [
    {
      "cell_type": "markdown",
      "source": [
        "<img src=\"https://raw.githubusercontent.com/andre-marcos-perez/ebac-course-utils/main/media/logo/newebac_logo_black_half.png\" alt=\"ebac-logo\">\n",
        "\n",
        "---\n",
        "\n",
        "HIGOR SILVA"
      ],
      "metadata": {
        "id": "JvsJOEEebWsI"
      }
    },
    {
      "cell_type": "code",
      "execution_count": 1,
      "metadata": {
        "id": "d9r7O9Jhw67r"
      },
      "outputs": [],
      "source": [
        "import requests\n",
        "from bs4 import BeautifulSoup\n",
        "\n",
        "requisicao = requests.get('https://github.com/trending')\n",
        "\n",
        "# salvando o conteudo na variavel conteudo\n",
        "conteudo = requisicao.content\n",
        "\n",
        "github = BeautifulSoup(conteudo, 'html.parser')"
      ]
    },
    {
      "cell_type": "code",
      "source": [
        "todos_projetos = github.find('div', attrs={'class': 'Box'}) # extraindo o conteudo html contendo todos os projetos\n",
        "print(todos_projetos.prettify())"
      ],
      "metadata": {
        "id": "i8z9Aa2jgBSz"
      },
      "execution_count": null,
      "outputs": []
    },
    {
      "cell_type": "code",
      "source": [
        "# Armazenando os nomes dos projetos na lista 'nomes_list'\n",
        "nomes_list = list()\n",
        "for linha in todos_projetos.find_all('article', attrs={'class': 'Box-row'}):\n",
        "  nome_projeto_git = linha.find('h2', attrs={'class': 'h3 lh-condensed'})\n",
        "  nome_projeto_git = nome_projeto_git.text # conteudo sem as tags html\n",
        "\n",
        "  # removendo os espaços e salvando na lista 'nomes_list'\n",
        "  nome_projeto_git = nome_projeto_git.split(\"\\n\")\n",
        "  nome_projeto_limpo = [' '.join(i.split()) for i in nome_projeto_git]\n",
        "  saida = '\\n'.join(nome_projeto_limpo)\n",
        "  nomes_list.append(saida.replace(\"\\n\", \" \").strip())\n",
        "\n",
        "print(nomes_list)"
      ],
      "metadata": {
        "colab": {
          "base_uri": "https://localhost:8080/"
        },
        "id": "QiDd_WOgojEU",
        "outputId": "a53a21d5-830d-48d7-ddee-8c78a8648f35"
      },
      "execution_count": 3,
      "outputs": [
        {
          "output_type": "stream",
          "name": "stdout",
          "text": [
            "['ByteByteGoHq /  system-design-101', 'localsend /  localsend', 'NVIDIA /  TensorRT-LLM', 'cpacker /  MemGPT', 'OpenBMB /  XAgent', 'WisdomShell /  codeshell', 'Planetary-Computers /  autotab-starter', 'termux /  termux-app', 'imartinez /  privateGPT', 'cloudcommunity /  Free-Certifications', 'EbookFoundation /  free-programming-books', 'KillianLucas /  open-interpreter', 'epicweb-dev /  full-stack-foundations', 'commaai /  openpilot', 'krishnaik06 /  The-Grand-Complete-Data-Science-Materials', 'neuralmagic /  deepsparse', 'modularml /  mojo', 'o3de /  o3de', 'OpenTalker /  video-retalking', 'lyswhut /  lx-music-desktop', 'IceWhaleTech /  CasaOS', 'alex-xu-system /  bytebytego', 'AUTOMATIC1111 /  stable-diffusion-webui', 'ethereum /  EIPs', 'FalconForceTeam /  FalconHound']\n"
          ]
        }
      ]
    },
    {
      "cell_type": "code",
      "source": [
        "# extraindo todas as estrelas do projeto do github\n",
        "stars = list()\n",
        "for c in todos_projetos.find_all('article', attrs={'class': 'Box-row'}):\n",
        "  estrelas = c.find('a', attrs={'class': 'Link Link--muted d-inline-block mr-3'})\n",
        "  estrelas = estrelas.text # conteudo sem as tags html\n",
        "\n",
        "  # removendo as quebras de linha e removendo os espaços\n",
        "  total_estrelas = estrelas.replace(\"\\n\", \" \").strip()\n",
        "  stars.append(total_estrelas)\n",
        "print(stars)"
      ],
      "metadata": {
        "colab": {
          "base_uri": "https://localhost:8080/"
        },
        "id": "iywe2qC27e8k",
        "outputId": "f7b58833-5396-4b9f-e320-426afdb236d9"
      },
      "execution_count": 4,
      "outputs": [
        {
          "output_type": "stream",
          "name": "stdout",
          "text": [
            "['24,837', '19,362', '1,809', '3,956', '2,576', '887', '569', '25,582', '38,947', '10,391', '300,621', '30,074', '341', '42,593', '3,317', '2,034', '15,224', '6,818', '1,994', '31,974', '17,032', '1,645', '106,547', '12,070', '207']\n"
          ]
        }
      ]
    },
    {
      "cell_type": "code",
      "source": [
        "# Extraindo as estrelas do github\n",
        "stars_today = list()\n",
        "\n",
        "for c in todos_projetos.find_all('article', attrs={'class': 'Box-row'}):\n",
        "  estrelas_dia = c.find('span', attrs={'class': 'd-inline-block float-sm-right'})\n",
        "  estrelas_dia = estrelas_dia.text # conteudo sem as tags html\n",
        "\n",
        "  # removendo as quebras de linha e removendo os espaços\n",
        "  apenas_estrelas = estrelas_dia.replace(\"\\n\", \" \").strip().split()\n",
        "  stars_today.append(apenas_estrelas[0])\n",
        "print(stars_today)"
      ],
      "metadata": {
        "colab": {
          "base_uri": "https://localhost:8080/"
        },
        "id": "QKMPFNJbr-wN",
        "outputId": "bfcfb42b-a1c2-401b-959f-97f509d69fb3"
      },
      "execution_count": 5,
      "outputs": [
        {
          "output_type": "stream",
          "name": "stdout",
          "text": [
            "['5,660', '957', '766', '266', '245', '135', '178', '23', '173', '410', '142', '186', '14', '125', '37', '124', '36', '49', '51', '44', '25', '24', '91', '17', '41']\n"
          ]
        }
      ]
    },
    {
      "cell_type": "code",
      "source": [
        "forks = list()\n",
        "for a in todos_projetos.find_all('article', attrs={'class': 'Box-row'}):\n",
        "  compartilhamento = a.find('a', attrs={'class': 'Link Link--muted d-inline-block mr-3'})\n",
        "  compartilhamento = compartilhamento.text # conteudo sem as tags html\n",
        "\n",
        "  # removendo as quebras de linha e removendo os espaços\n",
        "  compartilhamento_limpo = compartilhamento.replace(\"\\n\", \" \").strip()\n",
        "  forks.append(compartilhamento_limpo)\n",
        "print(forks)"
      ],
      "metadata": {
        "colab": {
          "base_uri": "https://localhost:8080/"
        },
        "id": "Nf8u1qv7AXIv",
        "outputId": "ab237f65-6f4c-4c9a-beb0-9a3de4b9d345"
      },
      "execution_count": 6,
      "outputs": [
        {
          "output_type": "stream",
          "name": "stdout",
          "text": [
            "['24,837', '19,362', '1,809', '3,956', '2,576', '887', '569', '25,582', '38,947', '10,391', '300,621', '30,074', '341', '42,593', '3,317', '2,034', '15,224', '6,818', '1,994', '31,974', '17,032', '1,645', '106,547', '12,070', '207']\n"
          ]
        }
      ]
    },
    {
      "cell_type": "code",
      "source": [
        "# criando o ranking de 1 a 10 para adicionar no arquivo csv\n",
        "ranking = list()\n",
        "for c in range(1,11):\n",
        "  ranking.append(c)\n",
        "print(ranking)"
      ],
      "metadata": {
        "colab": {
          "base_uri": "https://localhost:8080/"
        },
        "id": "7u-EnO1yBoPt",
        "outputId": "6c28638e-c8ea-4b1e-d309-7da1c3591e5e"
      },
      "execution_count": 7,
      "outputs": [
        {
          "output_type": "stream",
          "name": "stdout",
          "text": [
            "[1, 2, 3, 4, 5, 6, 7, 8, 9, 10]\n"
          ]
        }
      ]
    },
    {
      "cell_type": "code",
      "source": [
        "# criando o arquivo csv adicionando todas as listas extraidas\n",
        "import csv\n",
        "with open(file=\"./github.csv\", mode=\"w\", encoding=\"utf8\") as arquivo:\n",
        "  escritor_csv = csv.writer(arquivo, quoting=csv.QUOTE_ALL)\n",
        "  escritor_csv.writerows([['ranking', 'project', 'stars', 'stars_today', 'forks']] + list(map(lambda ranking, project, stars, stars_today, forks: [ranking, project, stars, stars_today, forks], ranking, nomes_list,stars, stars_today, forks)))"
      ],
      "metadata": {
        "id": "J4KTdBraCMXV"
      },
      "execution_count": 8,
      "outputs": []
    },
    {
      "cell_type": "markdown",
      "source": [
        "## **Com o arquivo csv criado podemos utilizar a bibloteca do pandas para carregar o arquivo e analisar melhor**"
      ],
      "metadata": {
        "id": "RNatkVt0cZYk"
      }
    },
    {
      "cell_type": "code",
      "source": [
        "import pandas as pd\n",
        "\n",
        "github_df = pd.read_csv('github.csv')"
      ],
      "metadata": {
        "id": "Z_pC7ITpcZA4"
      },
      "execution_count": 13,
      "outputs": []
    },
    {
      "cell_type": "code",
      "source": [
        "# visualizando as 10 linhas extraidas\n",
        "github_df.head(n=10)"
      ],
      "metadata": {
        "colab": {
          "base_uri": "https://localhost:8080/",
          "height": 363
        },
        "id": "hhhAqGXzcx9U",
        "outputId": "217eb8cd-d36f-422c-9ecd-00074f12f905"
      },
      "execution_count": 11,
      "outputs": [
        {
          "output_type": "execute_result",
          "data": {
            "text/plain": [
              "   ranking                                 project   stars stars_today   forks\n",
              "0        1       ByteByteGoHq /  system-design-101  24,837       5,660  24,837\n",
              "1        2                  localsend /  localsend  19,362         957  19,362\n",
              "2        3                  NVIDIA /  TensorRT-LLM   1,809         766   1,809\n",
              "3        4                       cpacker /  MemGPT   3,956         266   3,956\n",
              "4        5                       OpenBMB /  XAgent   2,576         245   2,576\n",
              "5        6                WisdomShell /  codeshell     887         135     887\n",
              "6        7  Planetary-Computers /  autotab-starter     569         178     569\n",
              "7        8                    termux /  termux-app  25,582          23  25,582\n",
              "8        9                 imartinez /  privateGPT  38,947         173  38,947\n",
              "9       10   cloudcommunity /  Free-Certifications  10,391         410  10,391"
            ],
            "text/html": [
              "\n",
              "  <div id=\"df-23e736ab-5c0f-408c-ba08-95c019c6dab9\" class=\"colab-df-container\">\n",
              "    <div>\n",
              "<style scoped>\n",
              "    .dataframe tbody tr th:only-of-type {\n",
              "        vertical-align: middle;\n",
              "    }\n",
              "\n",
              "    .dataframe tbody tr th {\n",
              "        vertical-align: top;\n",
              "    }\n",
              "\n",
              "    .dataframe thead th {\n",
              "        text-align: right;\n",
              "    }\n",
              "</style>\n",
              "<table border=\"1\" class=\"dataframe\">\n",
              "  <thead>\n",
              "    <tr style=\"text-align: right;\">\n",
              "      <th></th>\n",
              "      <th>ranking</th>\n",
              "      <th>project</th>\n",
              "      <th>stars</th>\n",
              "      <th>stars_today</th>\n",
              "      <th>forks</th>\n",
              "    </tr>\n",
              "  </thead>\n",
              "  <tbody>\n",
              "    <tr>\n",
              "      <th>0</th>\n",
              "      <td>1</td>\n",
              "      <td>ByteByteGoHq /  system-design-101</td>\n",
              "      <td>24,837</td>\n",
              "      <td>5,660</td>\n",
              "      <td>24,837</td>\n",
              "    </tr>\n",
              "    <tr>\n",
              "      <th>1</th>\n",
              "      <td>2</td>\n",
              "      <td>localsend /  localsend</td>\n",
              "      <td>19,362</td>\n",
              "      <td>957</td>\n",
              "      <td>19,362</td>\n",
              "    </tr>\n",
              "    <tr>\n",
              "      <th>2</th>\n",
              "      <td>3</td>\n",
              "      <td>NVIDIA /  TensorRT-LLM</td>\n",
              "      <td>1,809</td>\n",
              "      <td>766</td>\n",
              "      <td>1,809</td>\n",
              "    </tr>\n",
              "    <tr>\n",
              "      <th>3</th>\n",
              "      <td>4</td>\n",
              "      <td>cpacker /  MemGPT</td>\n",
              "      <td>3,956</td>\n",
              "      <td>266</td>\n",
              "      <td>3,956</td>\n",
              "    </tr>\n",
              "    <tr>\n",
              "      <th>4</th>\n",
              "      <td>5</td>\n",
              "      <td>OpenBMB /  XAgent</td>\n",
              "      <td>2,576</td>\n",
              "      <td>245</td>\n",
              "      <td>2,576</td>\n",
              "    </tr>\n",
              "    <tr>\n",
              "      <th>5</th>\n",
              "      <td>6</td>\n",
              "      <td>WisdomShell /  codeshell</td>\n",
              "      <td>887</td>\n",
              "      <td>135</td>\n",
              "      <td>887</td>\n",
              "    </tr>\n",
              "    <tr>\n",
              "      <th>6</th>\n",
              "      <td>7</td>\n",
              "      <td>Planetary-Computers /  autotab-starter</td>\n",
              "      <td>569</td>\n",
              "      <td>178</td>\n",
              "      <td>569</td>\n",
              "    </tr>\n",
              "    <tr>\n",
              "      <th>7</th>\n",
              "      <td>8</td>\n",
              "      <td>termux /  termux-app</td>\n",
              "      <td>25,582</td>\n",
              "      <td>23</td>\n",
              "      <td>25,582</td>\n",
              "    </tr>\n",
              "    <tr>\n",
              "      <th>8</th>\n",
              "      <td>9</td>\n",
              "      <td>imartinez /  privateGPT</td>\n",
              "      <td>38,947</td>\n",
              "      <td>173</td>\n",
              "      <td>38,947</td>\n",
              "    </tr>\n",
              "    <tr>\n",
              "      <th>9</th>\n",
              "      <td>10</td>\n",
              "      <td>cloudcommunity /  Free-Certifications</td>\n",
              "      <td>10,391</td>\n",
              "      <td>410</td>\n",
              "      <td>10,391</td>\n",
              "    </tr>\n",
              "  </tbody>\n",
              "</table>\n",
              "</div>\n",
              "    <div class=\"colab-df-buttons\">\n",
              "\n",
              "  <div class=\"colab-df-container\">\n",
              "    <button class=\"colab-df-convert\" onclick=\"convertToInteractive('df-23e736ab-5c0f-408c-ba08-95c019c6dab9')\"\n",
              "            title=\"Convert this dataframe to an interactive table.\"\n",
              "            style=\"display:none;\">\n",
              "\n",
              "  <svg xmlns=\"http://www.w3.org/2000/svg\" height=\"24px\" viewBox=\"0 -960 960 960\">\n",
              "    <path d=\"M120-120v-720h720v720H120Zm60-500h600v-160H180v160Zm220 220h160v-160H400v160Zm0 220h160v-160H400v160ZM180-400h160v-160H180v160Zm440 0h160v-160H620v160ZM180-180h160v-160H180v160Zm440 0h160v-160H620v160Z\"/>\n",
              "  </svg>\n",
              "    </button>\n",
              "\n",
              "  <style>\n",
              "    .colab-df-container {\n",
              "      display:flex;\n",
              "      gap: 12px;\n",
              "    }\n",
              "\n",
              "    .colab-df-convert {\n",
              "      background-color: #E8F0FE;\n",
              "      border: none;\n",
              "      border-radius: 50%;\n",
              "      cursor: pointer;\n",
              "      display: none;\n",
              "      fill: #1967D2;\n",
              "      height: 32px;\n",
              "      padding: 0 0 0 0;\n",
              "      width: 32px;\n",
              "    }\n",
              "\n",
              "    .colab-df-convert:hover {\n",
              "      background-color: #E2EBFA;\n",
              "      box-shadow: 0px 1px 2px rgba(60, 64, 67, 0.3), 0px 1px 3px 1px rgba(60, 64, 67, 0.15);\n",
              "      fill: #174EA6;\n",
              "    }\n",
              "\n",
              "    .colab-df-buttons div {\n",
              "      margin-bottom: 4px;\n",
              "    }\n",
              "\n",
              "    [theme=dark] .colab-df-convert {\n",
              "      background-color: #3B4455;\n",
              "      fill: #D2E3FC;\n",
              "    }\n",
              "\n",
              "    [theme=dark] .colab-df-convert:hover {\n",
              "      background-color: #434B5C;\n",
              "      box-shadow: 0px 1px 3px 1px rgba(0, 0, 0, 0.15);\n",
              "      filter: drop-shadow(0px 1px 2px rgba(0, 0, 0, 0.3));\n",
              "      fill: #FFFFFF;\n",
              "    }\n",
              "  </style>\n",
              "\n",
              "    <script>\n",
              "      const buttonEl =\n",
              "        document.querySelector('#df-23e736ab-5c0f-408c-ba08-95c019c6dab9 button.colab-df-convert');\n",
              "      buttonEl.style.display =\n",
              "        google.colab.kernel.accessAllowed ? 'block' : 'none';\n",
              "\n",
              "      async function convertToInteractive(key) {\n",
              "        const element = document.querySelector('#df-23e736ab-5c0f-408c-ba08-95c019c6dab9');\n",
              "        const dataTable =\n",
              "          await google.colab.kernel.invokeFunction('convertToInteractive',\n",
              "                                                    [key], {});\n",
              "        if (!dataTable) return;\n",
              "\n",
              "        const docLinkHtml = 'Like what you see? Visit the ' +\n",
              "          '<a target=\"_blank\" href=https://colab.research.google.com/notebooks/data_table.ipynb>data table notebook</a>'\n",
              "          + ' to learn more about interactive tables.';\n",
              "        element.innerHTML = '';\n",
              "        dataTable['output_type'] = 'display_data';\n",
              "        await google.colab.output.renderOutput(dataTable, element);\n",
              "        const docLink = document.createElement('div');\n",
              "        docLink.innerHTML = docLinkHtml;\n",
              "        element.appendChild(docLink);\n",
              "      }\n",
              "    </script>\n",
              "  </div>\n",
              "\n",
              "\n",
              "<div id=\"df-e60a1935-4c63-4fb2-9b53-2ce53a621ad0\">\n",
              "  <button class=\"colab-df-quickchart\" onclick=\"quickchart('df-e60a1935-4c63-4fb2-9b53-2ce53a621ad0')\"\n",
              "            title=\"Suggest charts.\"\n",
              "            style=\"display:none;\">\n",
              "\n",
              "<svg xmlns=\"http://www.w3.org/2000/svg\" height=\"24px\"viewBox=\"0 0 24 24\"\n",
              "     width=\"24px\">\n",
              "    <g>\n",
              "        <path d=\"M19 3H5c-1.1 0-2 .9-2 2v14c0 1.1.9 2 2 2h14c1.1 0 2-.9 2-2V5c0-1.1-.9-2-2-2zM9 17H7v-7h2v7zm4 0h-2V7h2v10zm4 0h-2v-4h2v4z\"/>\n",
              "    </g>\n",
              "</svg>\n",
              "  </button>\n",
              "\n",
              "<style>\n",
              "  .colab-df-quickchart {\n",
              "      --bg-color: #E8F0FE;\n",
              "      --fill-color: #1967D2;\n",
              "      --hover-bg-color: #E2EBFA;\n",
              "      --hover-fill-color: #174EA6;\n",
              "      --disabled-fill-color: #AAA;\n",
              "      --disabled-bg-color: #DDD;\n",
              "  }\n",
              "\n",
              "  [theme=dark] .colab-df-quickchart {\n",
              "      --bg-color: #3B4455;\n",
              "      --fill-color: #D2E3FC;\n",
              "      --hover-bg-color: #434B5C;\n",
              "      --hover-fill-color: #FFFFFF;\n",
              "      --disabled-bg-color: #3B4455;\n",
              "      --disabled-fill-color: #666;\n",
              "  }\n",
              "\n",
              "  .colab-df-quickchart {\n",
              "    background-color: var(--bg-color);\n",
              "    border: none;\n",
              "    border-radius: 50%;\n",
              "    cursor: pointer;\n",
              "    display: none;\n",
              "    fill: var(--fill-color);\n",
              "    height: 32px;\n",
              "    padding: 0;\n",
              "    width: 32px;\n",
              "  }\n",
              "\n",
              "  .colab-df-quickchart:hover {\n",
              "    background-color: var(--hover-bg-color);\n",
              "    box-shadow: 0 1px 2px rgba(60, 64, 67, 0.3), 0 1px 3px 1px rgba(60, 64, 67, 0.15);\n",
              "    fill: var(--button-hover-fill-color);\n",
              "  }\n",
              "\n",
              "  .colab-df-quickchart-complete:disabled,\n",
              "  .colab-df-quickchart-complete:disabled:hover {\n",
              "    background-color: var(--disabled-bg-color);\n",
              "    fill: var(--disabled-fill-color);\n",
              "    box-shadow: none;\n",
              "  }\n",
              "\n",
              "  .colab-df-spinner {\n",
              "    border: 2px solid var(--fill-color);\n",
              "    border-color: transparent;\n",
              "    border-bottom-color: var(--fill-color);\n",
              "    animation:\n",
              "      spin 1s steps(1) infinite;\n",
              "  }\n",
              "\n",
              "  @keyframes spin {\n",
              "    0% {\n",
              "      border-color: transparent;\n",
              "      border-bottom-color: var(--fill-color);\n",
              "      border-left-color: var(--fill-color);\n",
              "    }\n",
              "    20% {\n",
              "      border-color: transparent;\n",
              "      border-left-color: var(--fill-color);\n",
              "      border-top-color: var(--fill-color);\n",
              "    }\n",
              "    30% {\n",
              "      border-color: transparent;\n",
              "      border-left-color: var(--fill-color);\n",
              "      border-top-color: var(--fill-color);\n",
              "      border-right-color: var(--fill-color);\n",
              "    }\n",
              "    40% {\n",
              "      border-color: transparent;\n",
              "      border-right-color: var(--fill-color);\n",
              "      border-top-color: var(--fill-color);\n",
              "    }\n",
              "    60% {\n",
              "      border-color: transparent;\n",
              "      border-right-color: var(--fill-color);\n",
              "    }\n",
              "    80% {\n",
              "      border-color: transparent;\n",
              "      border-right-color: var(--fill-color);\n",
              "      border-bottom-color: var(--fill-color);\n",
              "    }\n",
              "    90% {\n",
              "      border-color: transparent;\n",
              "      border-bottom-color: var(--fill-color);\n",
              "    }\n",
              "  }\n",
              "</style>\n",
              "\n",
              "  <script>\n",
              "    async function quickchart(key) {\n",
              "      const quickchartButtonEl =\n",
              "        document.querySelector('#' + key + ' button');\n",
              "      quickchartButtonEl.disabled = true;  // To prevent multiple clicks.\n",
              "      quickchartButtonEl.classList.add('colab-df-spinner');\n",
              "      try {\n",
              "        const charts = await google.colab.kernel.invokeFunction(\n",
              "            'suggestCharts', [key], {});\n",
              "      } catch (error) {\n",
              "        console.error('Error during call to suggestCharts:', error);\n",
              "      }\n",
              "      quickchartButtonEl.classList.remove('colab-df-spinner');\n",
              "      quickchartButtonEl.classList.add('colab-df-quickchart-complete');\n",
              "    }\n",
              "    (() => {\n",
              "      let quickchartButtonEl =\n",
              "        document.querySelector('#df-e60a1935-4c63-4fb2-9b53-2ce53a621ad0 button');\n",
              "      quickchartButtonEl.style.display =\n",
              "        google.colab.kernel.accessAllowed ? 'block' : 'none';\n",
              "    })();\n",
              "  </script>\n",
              "</div>\n",
              "    </div>\n",
              "  </div>\n"
            ]
          },
          "metadata": {},
          "execution_count": 11
        }
      ]
    },
    {
      "cell_type": "markdown",
      "source": [
        "## **Para extrair as linguagens você precisa adicionar uma condição IF, pois nem todos projetos do GitHub possuem uma linguagem, podem ser por exemplo um blog. Segue o código abaixo para entender:**"
      ],
      "metadata": {
        "id": "7BxaCrnXY1Ki"
      }
    },
    {
      "cell_type": "code",
      "source": [
        "# extraindo as linguagem dos projetos\n",
        "linguagem_list = list()\n",
        "for a in todos_projetos.find_all('article', attrs={'class': 'Box-row'}):\n",
        "  linguagem = a.find('span', attrs={'class': 'd-inline-block ml-0 mr-3'})\n",
        "\n",
        "  if linguagem: # se existir a linguagem extraia a linguagem\n",
        "    linguagem = linguagem.text\n",
        "    linguagem_limpa = linguagem.replace(\"\\n\", \" \").strip()\n",
        "    linguagem_list.append(linguagem_limpa)\n",
        "print(linguagem_list)"
      ],
      "metadata": {
        "colab": {
          "base_uri": "https://localhost:8080/"
        },
        "id": "TH51szHWXeSW",
        "outputId": "38282e02-e700-4505-e192-51cb44ee8e10"
      },
      "execution_count": 9,
      "outputs": [
        {
          "output_type": "stream",
          "name": "stdout",
          "text": [
            "['Dart', 'C++', 'Python', 'TypeScript', 'Python', 'Python', 'Java', 'Python', 'Python', 'TypeScript', 'Python', 'Jupyter Notebook', 'Python', 'C++', 'Python', 'TypeScript', 'Go', 'Python', 'Solidity', 'Go']\n"
          ]
        }
      ]
    }
  ]
}