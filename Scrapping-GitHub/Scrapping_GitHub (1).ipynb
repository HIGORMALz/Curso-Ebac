{
  "nbformat": 4,
  "nbformat_minor": 0,
  "metadata": {
    "colab": {
      "provenance": []
    },
    "kernelspec": {
      "name": "python3",
      "display_name": "Python 3"
    },
    "language_info": {
      "name": "python"
    }
  },
  "cells": [
    {
      "cell_type": "markdown",
      "source": [
        "<img src=\"https://raw.githubusercontent.com/andre-marcos-perez/ebac-course-utils/main/media/logo/newebac_logo_black_half.png\" alt=\"ebac-logo\">\n",
        "\n",
        "---\n",
        "\n",
        "HIGOR SILVA"
      ],
      "metadata": {
        "id": "JvsJOEEebWsI"
      }
    },
    {
      "cell_type": "code",
      "execution_count": 1,
      "metadata": {
        "id": "d9r7O9Jhw67r"
      },
      "outputs": [],
      "source": [
        "import requests\n",
        "from bs4 import BeautifulSoup\n",
        "\n",
        "requisicao = requests.get('https://github.com/trending')\n",
        "\n",
        "# salvando o conteudo na variavel conteudo\n",
        "conteudo = requisicao.content\n",
        "\n",
        "github = BeautifulSoup(conteudo, 'html.parser')"
      ]
    },
    {
      "cell_type": "code",
      "source": [
        "todos_projetos = github.find('div', attrs={'class': 'Box'})\n",
        "print(todos_projetos.prettify())"
      ],
      "metadata": {
        "id": "i8z9Aa2jgBSz"
      },
      "execution_count": null,
      "outputs": []
    },
    {
      "cell_type": "code",
      "source": [
        "# Armazenando os nomes dos projetos na lista 'nomes_list'\n",
        "nomes_list = list()\n",
        "for linha in todos_projetos.find_all('article', attrs={'class': 'Box-row'}):\n",
        "  nome_projeto_git = linha.find('h2', attrs={'class': 'h3 lh-condensed'})\n",
        "  nome_projeto_git = nome_projeto_git.text # conteudo sem as tags html\n",
        "\n",
        "  # removendo os espaços e salvando na lista 'nomes_list'\n",
        "  nome_projeto_git = nome_projeto_git.split(\"\\n\")\n",
        "  nome_projeto_limpo = [' '.join(i.split()) for i in nome_projeto_git]\n",
        "  saida = '\\n'.join(nome_projeto_limpo)\n",
        "  nomes_list.append(saida.replace(\"\\n\", \" \").strip())\n",
        "\n",
        "print(nomes_list)"
      ],
      "metadata": {
        "colab": {
          "base_uri": "https://localhost:8080/"
        },
        "id": "QiDd_WOgojEU",
        "outputId": "a53a21d5-830d-48d7-ddee-8c78a8648f35"
      },
      "execution_count": 3,
      "outputs": [
        {
          "output_type": "stream",
          "name": "stdout",
          "text": [
            "['ByteByteGoHq /  system-design-101', 'localsend /  localsend', 'NVIDIA /  TensorRT-LLM', 'cpacker /  MemGPT', 'OpenBMB /  XAgent', 'WisdomShell /  codeshell', 'Planetary-Computers /  autotab-starter', 'termux /  termux-app', 'imartinez /  privateGPT', 'cloudcommunity /  Free-Certifications', 'EbookFoundation /  free-programming-books', 'KillianLucas /  open-interpreter', 'epicweb-dev /  full-stack-foundations', 'commaai /  openpilot', 'krishnaik06 /  The-Grand-Complete-Data-Science-Materials', 'neuralmagic /  deepsparse', 'modularml /  mojo', 'o3de /  o3de', 'OpenTalker /  video-retalking', 'lyswhut /  lx-music-desktop', 'IceWhaleTech /  CasaOS', 'alex-xu-system /  bytebytego', 'AUTOMATIC1111 /  stable-diffusion-webui', 'ethereum /  EIPs', 'FalconForceTeam /  FalconHound']\n"
          ]
        }
      ]
    },
    {
      "cell_type": "code",
      "source": [
        "# extraindo todas as estrelas do projeto do github\n",
        "stars = list()\n",
        "for c in todos_projetos.find_all('article', attrs={'class': 'Box-row'}):\n",
        "  estrelas = c.find('a', attrs={'class': 'Link Link--muted d-inline-block mr-3'})\n",
        "  estrelas = estrelas.text # conteudo sem as tags html\n",
        "\n",
        "  # removendo as quebras de linha e removendo os espaços\n",
        "  total_estrelas = estrelas.replace(\"\\n\", \" \").strip()\n",
        "  stars.append(total_estrelas)\n",
        "print(stars)"
      ],
      "metadata": {
        "colab": {
          "base_uri": "https://localhost:8080/"
        },
        "id": "iywe2qC27e8k",
        "outputId": "f7b58833-5396-4b9f-e320-426afdb236d9"
      },
      "execution_count": 4,
      "outputs": [
        {
          "output_type": "stream",
          "name": "stdout",
          "text": [
            "['24,837', '19,362', '1,809', '3,956', '2,576', '887', '569', '25,582', '38,947', '10,391', '300,621', '30,074', '341', '42,593', '3,317', '2,034', '15,224', '6,818', '1,994', '31,974', '17,032', '1,645', '106,547', '12,070', '207']\n"
          ]
        }
      ]
    },
    {
      "cell_type": "code",
      "source": [
        "# Extraindo as estrelas do github\n",
        "stars_today = list()\n",
        "\n",
        "for c in todos_projetos.find_all('article', attrs={'class': 'Box-row'}):\n",
        "  estrelas_dia = c.find('span', attrs={'class': 'd-inline-block float-sm-right'})\n",
        "  estrelas_dia = estrelas_dia.text # conteudo sem as tags html\n",
        "\n",
        "  # removendo as quebras de linha e removendo os espaços\n",
        "  apenas_estrelas = estrelas_dia.replace(\"\\n\", \" \").strip().split()\n",
        "  stars_today.append(apenas_estrelas[0])\n",
        "print(stars_today)"
      ],
      "metadata": {
        "colab": {
          "base_uri": "https://localhost:8080/"
        },
        "id": "QKMPFNJbr-wN",
        "outputId": "bfcfb42b-a1c2-401b-959f-97f509d69fb3"
      },
      "execution_count": 5,
      "outputs": [
        {
          "output_type": "stream",
          "name": "stdout",
          "text": [
            "['5,660', '957', '766', '266', '245', '135', '178', '23', '173', '410', '142', '186', '14', '125', '37', '124', '36', '49', '51', '44', '25', '24', '91', '17', '41']\n"
          ]
        }
      ]
    },
    {
      "cell_type": "code",
      "source": [
        "forks = list()\n",
        "for a in todos_projetos.find_all('article', attrs={'class': 'Box-row'}):\n",
        "  compartilhamento = a.find('a', attrs={'class': 'Link Link--muted d-inline-block mr-3'})\n",
        "  compartilhamento = compartilhamento.text # conteudo sem as tags html\n",
        "\n",
        "  # removendo as quebras de linha e removendo os espaços\n",
        "  compartilhamento_limpo = compartilhamento.replace(\"\\n\", \" \").strip()\n",
        "  forks.append(compartilhamento_limpo)\n",
        "print(forks)"
      ],
      "metadata": {
        "colab": {
          "base_uri": "https://localhost:8080/"
        },
        "id": "Nf8u1qv7AXIv",
        "outputId": "ab237f65-6f4c-4c9a-beb0-9a3de4b9d345"
      },
      "execution_count": 6,
      "outputs": [
        {
          "output_type": "stream",
          "name": "stdout",
          "text": [
            "['24,837', '19,362', '1,809', '3,956', '2,576', '887', '569', '25,582', '38,947', '10,391', '300,621', '30,074', '341', '42,593', '3,317', '2,034', '15,224', '6,818', '1,994', '31,974', '17,032', '1,645', '106,547', '12,070', '207']\n"
          ]
        }
      ]
    },
    {
      "cell_type": "code",
      "source": [
        "# criando o ranking de 1 a 10 para adicionar no arquivo csv\n",
        "ranking = list()\n",
        "for c in range(1,11):\n",
        "  ranking.append(c)\n",
        "print(ranking)"
      ],
      "metadata": {
        "colab": {
          "base_uri": "https://localhost:8080/"
        },
        "id": "7u-EnO1yBoPt",
        "outputId": "6c28638e-c8ea-4b1e-d309-7da1c3591e5e"
      },
      "execution_count": 7,
      "outputs": [
        {
          "output_type": "stream",
          "name": "stdout",
          "text": [
            "[1, 2, 3, 4, 5, 6, 7, 8, 9, 10]\n"
          ]
        }
      ]
    },
    {
      "cell_type": "code",
      "source": [
        "# criando o arquivo csv adicionando todas as listas extraidas\n",
        "import csv\n",
        "with open(file=\"./github.csv\", mode=\"w\", encoding=\"utf8\") as arquivo:\n",
        "  escritor_csv = csv.writer(arquivo, quoting=csv.QUOTE_ALL)\n",
        "  escritor_csv.writerows([['ranking', 'project', 'stars', 'stars_today', 'forks']] + list(map(lambda ranking, project, stars, stars_today, forks: [ranking, project, stars, stars_today, forks], ranking, nomes_list,stars, stars_today, forks)))"
      ],
      "metadata": {
        "id": "J4KTdBraCMXV"
      },
      "execution_count": 8,
      "outputs": []
    },
    {
      "cell_type": "markdown",
      "source": [
        "## **Para extrair as linguagens você precisa adicionar uma condição IF, pois nem todos projetos do GitHub possuem uma linguagem, podem ser por exemplo um blog. Segue o código abaixo para entender:**"
      ],
      "metadata": {
        "id": "7BxaCrnXY1Ki"
      }
    },
    {
      "cell_type": "code",
      "source": [
        "# extraindo as linguagem dos projetos\n",
        "linguagem_list = list()\n",
        "for a in todos_projetos.find_all('article', attrs={'class': 'Box-row'}):\n",
        "  linguagem = a.find('span', attrs={'class': 'd-inline-block ml-0 mr-3'})\n",
        "\n",
        "  if linguagem: # se existir a linguagem extraia a linguagem\n",
        "    linguagem = linguagem.text\n",
        "    linguagem_limpa = linguagem.replace(\"\\n\", \" \").strip()\n",
        "    linguagem_list.append(linguagem_limpa)\n",
        "print(linguagem_list)"
      ],
      "metadata": {
        "colab": {
          "base_uri": "https://localhost:8080/"
        },
        "id": "TH51szHWXeSW",
        "outputId": "38282e02-e700-4505-e192-51cb44ee8e10"
      },
      "execution_count": 9,
      "outputs": [
        {
          "output_type": "stream",
          "name": "stdout",
          "text": [
            "['Dart', 'C++', 'Python', 'TypeScript', 'Python', 'Python', 'Java', 'Python', 'Python', 'TypeScript', 'Python', 'Jupyter Notebook', 'Python', 'C++', 'Python', 'TypeScript', 'Go', 'Python', 'Solidity', 'Go']\n"
          ]
        }
      ]
    }
  ]
}